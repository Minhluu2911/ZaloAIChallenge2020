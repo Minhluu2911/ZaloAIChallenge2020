{
 "cells": [
  {
   "cell_type": "code",
   "execution_count": 2,
   "metadata": {
    "id": "TfpfFfPxpQQT"
   },
   "outputs": [],
   "source": [
    "import pandas as pd\n",
    "import json\n",
    "import numpy as np\n",
    "from matplotlib import pyplot as plt"
   ]
  },
  {
   "cell_type": "code",
   "execution_count": 3,
   "metadata": {
    "colab": {
     "base_uri": "https://localhost:8080/"
    },
    "id": "SdtNnyinp-KN",
    "outputId": "ac29e8a3-5454-4215-97b2-be944407d9fd"
   },
   "outputs": [
    {
     "name": "stdout",
     "output_type": "stream",
     "text": [
      "       labels  image_id       x      y      w      h\n",
      "0           2         3   880.0  333.0   19.0   18.0\n",
      "1           3         5  1069.0  355.0   83.0   83.0\n",
      "2           2         5   768.0  480.0    9.0    7.0\n",
      "3           6         6   781.0  337.0   17.0   15.0\n",
      "4           2        16   733.0  352.0    7.0    8.0\n",
      "...       ...       ...     ...    ...    ...    ...\n",
      "10995       7     12519   902.0  290.0  273.0  100.0\n",
      "10996       2     12521  1338.0  173.0   48.0   41.0\n",
      "10997       2     12523   800.0  256.0   20.0   21.0\n",
      "10998       6     12523   800.0  281.0   21.0   16.0\n",
      "10999       4     12523   969.0  335.0   15.0   16.0\n",
      "\n",
      "[11000 rows x 6 columns]\n"
     ]
    }
   ],
   "source": [
    "with open(f\"train_traffic_sign_dataset.json\", \"r\") as fin:\n",
    "    data = json.load(fin)\n",
    "\n",
    "labels = []\n",
    "bboxes = []\n",
    "images_id = []\n",
    "height = 626\n",
    "width = 1622\n",
    "for i in range(len(data['annotations'])):\n",
    "    labels.append(data['annotations'][i]['category_id'])\n",
    "    bboxes.append(data['annotations'][i]['bbox'])\n",
    "    images_id.append(data['annotations'][i]['image_id'])\n",
    "\n",
    "train_df = pd.DataFrame()\n",
    "train_df['labels'] = labels\n",
    "train_df['bbox'] = bboxes\n",
    "train_df['image_id'] = images_id\n",
    "\n",
    "train_df['x'] = -1\n",
    "train_df['y'] = -1\n",
    "train_df['w'] = -1\n",
    "train_df['h'] = -1\n",
    "\n",
    "def expand_bbox(x):\n",
    "    r = np.array(re.findall(\"([0-9]+[.]?[0-9]*)\", x))\n",
    "    if len(r) == 0:\n",
    "        r = [-1, -1, -1, -1]\n",
    "    return r\n",
    "\n",
    "train_df[['x', 'y', 'w', 'h']] = np.stack(train_df['bbox'])\n",
    "train_df.drop(columns=['bbox'], inplace=True)\n",
    "train_df['x'] = train_df['x'].astype(np.float)\n",
    "train_df['y'] = train_df['y'].astype(np.float)\n",
    "train_df['w'] = train_df['w'].astype(np.float)\n",
    "train_df['h'] = train_df['h'].astype(np.float)\n",
    "\n",
    "print(train_df)"
   ]
  },
  {
   "cell_type": "code",
   "execution_count": 4,
   "metadata": {
    "colab": {
     "base_uri": "https://localhost:8080/",
     "height": 204
    },
    "id": "G9diDjM9kydQ",
    "outputId": "f71359ce-95b2-4dae-d7bc-37044f9fc796"
   },
   "outputs": [
    {
     "data": {
      "text/html": [
       "<div>\n",
       "<style scoped>\n",
       "    .dataframe tbody tr th:only-of-type {\n",
       "        vertical-align: middle;\n",
       "    }\n",
       "\n",
       "    .dataframe tbody tr th {\n",
       "        vertical-align: top;\n",
       "    }\n",
       "\n",
       "    .dataframe thead th {\n",
       "        text-align: right;\n",
       "    }\n",
       "</style>\n",
       "<table border=\"1\" class=\"dataframe\">\n",
       "  <thead>\n",
       "    <tr style=\"text-align: right;\">\n",
       "      <th></th>\n",
       "      <th>labels</th>\n",
       "      <th>image_id</th>\n",
       "      <th>x</th>\n",
       "      <th>y</th>\n",
       "      <th>w</th>\n",
       "      <th>h</th>\n",
       "      <th>x_center</th>\n",
       "      <th>y_center</th>\n",
       "      <th>n_height</th>\n",
       "      <th>n_width</th>\n",
       "    </tr>\n",
       "  </thead>\n",
       "  <tbody>\n",
       "    <tr>\n",
       "      <th>0</th>\n",
       "      <td>2</td>\n",
       "      <td>3</td>\n",
       "      <td>880.0</td>\n",
       "      <td>333.0</td>\n",
       "      <td>19.0</td>\n",
       "      <td>18.0</td>\n",
       "      <td>0.548397</td>\n",
       "      <td>0.546326</td>\n",
       "      <td>0.028754</td>\n",
       "      <td>0.011714</td>\n",
       "    </tr>\n",
       "    <tr>\n",
       "      <th>1</th>\n",
       "      <td>3</td>\n",
       "      <td>5</td>\n",
       "      <td>1069.0</td>\n",
       "      <td>355.0</td>\n",
       "      <td>83.0</td>\n",
       "      <td>83.0</td>\n",
       "      <td>0.684649</td>\n",
       "      <td>0.633387</td>\n",
       "      <td>0.132588</td>\n",
       "      <td>0.051171</td>\n",
       "    </tr>\n",
       "    <tr>\n",
       "      <th>2</th>\n",
       "      <td>2</td>\n",
       "      <td>5</td>\n",
       "      <td>768.0</td>\n",
       "      <td>480.0</td>\n",
       "      <td>9.0</td>\n",
       "      <td>7.0</td>\n",
       "      <td>0.476264</td>\n",
       "      <td>0.772364</td>\n",
       "      <td>0.011182</td>\n",
       "      <td>0.005549</td>\n",
       "    </tr>\n",
       "    <tr>\n",
       "      <th>3</th>\n",
       "      <td>6</td>\n",
       "      <td>6</td>\n",
       "      <td>781.0</td>\n",
       "      <td>337.0</td>\n",
       "      <td>17.0</td>\n",
       "      <td>15.0</td>\n",
       "      <td>0.486745</td>\n",
       "      <td>0.550319</td>\n",
       "      <td>0.023962</td>\n",
       "      <td>0.010481</td>\n",
       "    </tr>\n",
       "    <tr>\n",
       "      <th>4</th>\n",
       "      <td>2</td>\n",
       "      <td>16</td>\n",
       "      <td>733.0</td>\n",
       "      <td>352.0</td>\n",
       "      <td>7.0</td>\n",
       "      <td>8.0</td>\n",
       "      <td>0.454069</td>\n",
       "      <td>0.568690</td>\n",
       "      <td>0.012780</td>\n",
       "      <td>0.004316</td>\n",
       "    </tr>\n",
       "  </tbody>\n",
       "</table>\n",
       "</div>"
      ],
      "text/plain": [
       "   labels  image_id       x      y     w     h  x_center  y_center  n_height  \\\n",
       "0       2         3   880.0  333.0  19.0  18.0  0.548397  0.546326  0.028754   \n",
       "1       3         5  1069.0  355.0  83.0  83.0  0.684649  0.633387  0.132588   \n",
       "2       2         5   768.0  480.0   9.0   7.0  0.476264  0.772364  0.011182   \n",
       "3       6         6   781.0  337.0  17.0  15.0  0.486745  0.550319  0.023962   \n",
       "4       2        16   733.0  352.0   7.0   8.0  0.454069  0.568690  0.012780   \n",
       "\n",
       "    n_width  \n",
       "0  0.011714  \n",
       "1  0.051171  \n",
       "2  0.005549  \n",
       "3  0.010481  \n",
       "4  0.004316  "
      ]
     },
     "execution_count": 4,
     "metadata": {},
     "output_type": "execute_result"
    }
   ],
   "source": [
    "train_df['x_center'] = (train_df['x'] + train_df['w']*0.5)/width\n",
    "train_df['y_center'] = (train_df['y'] + train_df['h']*0.5)/height\n",
    "train_df['n_height'] = train_df['h']/height\n",
    "train_df['n_width'] = train_df['w']/width\n",
    "train_df.head()"
   ]
  },
  {
   "cell_type": "code",
   "execution_count": 7,
   "metadata": {
    "colab": {
     "base_uri": "https://localhost:8080/"
    },
    "id": "PgfXGU-zm9HR",
    "outputId": "81744ff3-2ad3-49ca-c39b-cc7135541693"
   },
   "outputs": [
    {
     "data": {
      "text/plain": [
       "array([2.        , 0.54839704, 0.54632588, 0.02875399, 0.01171393])"
      ]
     },
     "execution_count": 7,
     "metadata": {},
     "output_type": "execute_result"
    }
   ],
   "source": [
    "train_df_drop = train_df.drop(columns = ['image_id', 'x', 'y', 'w', 'h'])\n"
   ]
  },
  {
   "cell_type": "code",
   "execution_count": 37,
   "metadata": {
    "id": "DZs4ZxKGoUT9"
   },
   "outputs": [],
   "source": [
    "for i in range(len(train_df['image_id'])):\n",
    "  DIR = \"txt/\" + str(train_df['image_id'][i]) + \".txt\"\n",
    "  A = train_df_drop.loc[i].values\n",
    "  B = np.reshape(A,(-1,5))  \n",
    "  np.savetxt(DIR, B, fmt=' '.join(['%i']*1 + ['%1.6f']*4), newline=\" \")  "
   ]
  },
  {
   "cell_type": "code",
   "execution_count": 34,
   "metadata": {
    "id": "z7TKtQCdOlN-"
   },
   "outputs": [
    {
     "data": {
      "text/plain": [
       "(2, 6)"
      ]
     },
     "execution_count": 34,
     "metadata": {},
     "output_type": "execute_result"
    }
   ],
   "source": [
    "A = np.array([[1,2,3,4,5,6],\n",
    "             [3,4,5,6,7,8]])\n",
    "A.shape"
   ]
  },
  {
   "cell_type": "code",
   "execution_count": null,
   "metadata": {},
   "outputs": [],
   "source": []
  }
 ],
 "metadata": {
  "accelerator": "GPU",
  "colab": {
   "name": "Untitled0.ipynb",
   "provenance": []
  },
  "kernelspec": {
   "display_name": "Python 3",
   "language": "python",
   "name": "python3"
  },
  "language_info": {
   "codemirror_mode": {
    "name": "ipython",
    "version": 3
   },
   "file_extension": ".py",
   "mimetype": "text/x-python",
   "name": "python",
   "nbconvert_exporter": "python",
   "pygments_lexer": "ipython3",
   "version": "3.8.3"
  }
 },
 "nbformat": 4,
 "nbformat_minor": 1
}
